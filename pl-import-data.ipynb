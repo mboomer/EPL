{
 "metadata": {
  "language_info": {
   "codemirror_mode": {
    "name": "ipython",
    "version": 3
   },
   "file_extension": ".py",
   "mimetype": "text/x-python",
   "name": "python",
   "nbconvert_exporter": "python",
   "pygments_lexer": "ipython3",
   "version": "3.9.1-final"
  },
  "orig_nbformat": 2,
  "kernelspec": {
   "name": "python3",
   "display_name": "Python 3.9.1 64-bit",
   "metadata": {
    "interpreter": {
     "hash": "63fd5069d213b44bf678585dea6b12cceca9941eaf7f819626cde1f2670de90d"
    }
   }
  }
 },
 "nbformat": 4,
 "nbformat_minor": 2,
 "cells": [
  {
   "cell_type": "code",
   "execution_count": null,
   "metadata": {},
   "outputs": [],
   "source": [
    "import pandas as pd\n",
    "import numpy as np \n",
    "import os\n",
    "\n",
    "print('Import complete')\n"
   ]
  },
  {
   "cell_type": "code",
   "execution_count": null,
   "metadata": {},
   "outputs": [],
   "source": [
    "# create an empty data frame\n",
    "epl_df = pd.DataFrame()\n",
    "epl_df.shape\n",
    "\n",
    "# loop through the csv files in the data-csv folder\n",
    "import_dir  = 'c:\\premier League\\data-csv'\n",
    "\n",
    "for entry in os.scandir(import_dir):\n",
    "    if (entry.path.endswith(\".csv\")) and (entry.name.startswith(\"Season-\")) and entry.is_file():   \n",
    "        # print('File Name : ', entry.name)\n",
    "        # create a DF from the csv file        \n",
    "        df = pd.read_csv(entry, index_col=False)\n",
    "        # fill any NaN values with zeroes\n",
    "        # df = df.fillna(0)                               \n",
    "        #append the DF to the epl_df - index all rows 1,2,3.....etc\n",
    "        epl_df = pd.concat([epl_df, df], ignore_index=True)\n",
    "\n",
    "Print('DataFrame Completed')\n",
    "        "
   ]
  },
  {
   "cell_type": "code",
   "execution_count": null,
   "metadata": {},
   "outputs": [],
   "source": [
    "epl_df.shape\n",
    "# clean the data up\n",
    "# remove blank rows\n",
    "# epl_df.dropna(inplace = True)\n",
    "# replace NaN values with blank\n",
    "# epl_df.fillna('', inplace = True)\n",
    "# epl_df"
   ]
  },
  {
   "cell_type": "code",
   "execution_count": null,
   "metadata": {},
   "outputs": [],
   "source": [
    "epl_df"
   ]
  },
  {
   "cell_type": "code",
   "execution_count": null,
   "metadata": {},
   "outputs": [],
   "source": [
    "# write the epl_df dataframe to as CSV file\n",
    "# epl_df.to_csv(r'data-csv\\all-seasons.csv', index = False)\n",
    "# write all rows for the columns : Date, HomeTeam, AwayTeam, FTHG, FTAG, FTR, HTHG, HTAG, HTR\n",
    "try:\n",
    "    epl_df.loc[ : , 'Date' : 'HTR' ].to_csv(r'data-csv\\all-seasons.csv', index = False)\n",
    "    print('File Created')\n",
    "except:\n",
    "    print('Something went wrong - check if file is open in Excel')"
   ]
  },
  {
   "cell_type": "code",
   "execution_count": 147,
   "metadata": {},
   "outputs": [
    {
     "output_type": "execute_result",
     "data": {
      "text/plain": [
       "             Date        HomeTeam       AwayTeam  FTHG  FTAG FTR  HTHG  HTAG  \\\n",
       "0        19/08/00        Charlton       Man City   4.0   0.0   H   2.0   0.0   \n",
       "1        19/08/00         Chelsea       West Ham   4.0   2.0   H   1.0   0.0   \n",
       "2        19/08/00        Coventry  Middlesbrough   1.0   3.0   A   1.0   1.0   \n",
       "3        19/08/00           Derby    Southampton   2.0   2.0   D   1.0   2.0   \n",
       "4        19/08/00           Leeds        Everton   2.0   0.0   H   2.0   0.0   \n",
       "...           ...             ...            ...   ...   ...  ..   ...   ...   \n",
       "10696  14/05/2000  Sheffield Weds      Leicester   4.0   0.0   H   2.0   0.0   \n",
       "10697  14/05/2000     Southampton      Wimbledon   2.0   0.0   H   0.0   0.0   \n",
       "10698  14/05/2000       Tottenham     Sunderland   3.0   1.0   H   1.0   1.0   \n",
       "10699  14/05/2000         Watford       Coventry   1.0   0.0   H   1.0   0.0   \n",
       "10700  14/05/2000        West Ham          Leeds   0.0   0.0   D   0.0   0.0   \n",
       "\n",
       "      HTR  \n",
       "0       H  \n",
       "1       H  \n",
       "2       D  \n",
       "3       A  \n",
       "4       H  \n",
       "...    ..  \n",
       "10696   H  \n",
       "10697   D  \n",
       "10698   D  \n",
       "10699   H  \n",
       "10700   D  \n",
       "\n",
       "[10701 rows x 9 columns]"
      ],
      "text/html": "<div>\n<style scoped>\n    .dataframe tbody tr th:only-of-type {\n        vertical-align: middle;\n    }\n\n    .dataframe tbody tr th {\n        vertical-align: top;\n    }\n\n    .dataframe thead th {\n        text-align: right;\n    }\n</style>\n<table border=\"1\" class=\"dataframe\">\n  <thead>\n    <tr style=\"text-align: right;\">\n      <th></th>\n      <th>Date</th>\n      <th>HomeTeam</th>\n      <th>AwayTeam</th>\n      <th>FTHG</th>\n      <th>FTAG</th>\n      <th>FTR</th>\n      <th>HTHG</th>\n      <th>HTAG</th>\n      <th>HTR</th>\n    </tr>\n  </thead>\n  <tbody>\n    <tr>\n      <th>0</th>\n      <td>19/08/00</td>\n      <td>Charlton</td>\n      <td>Man City</td>\n      <td>4.0</td>\n      <td>0.0</td>\n      <td>H</td>\n      <td>2.0</td>\n      <td>0.0</td>\n      <td>H</td>\n    </tr>\n    <tr>\n      <th>1</th>\n      <td>19/08/00</td>\n      <td>Chelsea</td>\n      <td>West Ham</td>\n      <td>4.0</td>\n      <td>2.0</td>\n      <td>H</td>\n      <td>1.0</td>\n      <td>0.0</td>\n      <td>H</td>\n    </tr>\n    <tr>\n      <th>2</th>\n      <td>19/08/00</td>\n      <td>Coventry</td>\n      <td>Middlesbrough</td>\n      <td>1.0</td>\n      <td>3.0</td>\n      <td>A</td>\n      <td>1.0</td>\n      <td>1.0</td>\n      <td>D</td>\n    </tr>\n    <tr>\n      <th>3</th>\n      <td>19/08/00</td>\n      <td>Derby</td>\n      <td>Southampton</td>\n      <td>2.0</td>\n      <td>2.0</td>\n      <td>D</td>\n      <td>1.0</td>\n      <td>2.0</td>\n      <td>A</td>\n    </tr>\n    <tr>\n      <th>4</th>\n      <td>19/08/00</td>\n      <td>Leeds</td>\n      <td>Everton</td>\n      <td>2.0</td>\n      <td>0.0</td>\n      <td>H</td>\n      <td>2.0</td>\n      <td>0.0</td>\n      <td>H</td>\n    </tr>\n    <tr>\n      <th>...</th>\n      <td>...</td>\n      <td>...</td>\n      <td>...</td>\n      <td>...</td>\n      <td>...</td>\n      <td>...</td>\n      <td>...</td>\n      <td>...</td>\n      <td>...</td>\n    </tr>\n    <tr>\n      <th>10696</th>\n      <td>14/05/2000</td>\n      <td>Sheffield Weds</td>\n      <td>Leicester</td>\n      <td>4.0</td>\n      <td>0.0</td>\n      <td>H</td>\n      <td>2.0</td>\n      <td>0.0</td>\n      <td>H</td>\n    </tr>\n    <tr>\n      <th>10697</th>\n      <td>14/05/2000</td>\n      <td>Southampton</td>\n      <td>Wimbledon</td>\n      <td>2.0</td>\n      <td>0.0</td>\n      <td>H</td>\n      <td>0.0</td>\n      <td>0.0</td>\n      <td>D</td>\n    </tr>\n    <tr>\n      <th>10698</th>\n      <td>14/05/2000</td>\n      <td>Tottenham</td>\n      <td>Sunderland</td>\n      <td>3.0</td>\n      <td>1.0</td>\n      <td>H</td>\n      <td>1.0</td>\n      <td>1.0</td>\n      <td>D</td>\n    </tr>\n    <tr>\n      <th>10699</th>\n      <td>14/05/2000</td>\n      <td>Watford</td>\n      <td>Coventry</td>\n      <td>1.0</td>\n      <td>0.0</td>\n      <td>H</td>\n      <td>1.0</td>\n      <td>0.0</td>\n      <td>H</td>\n    </tr>\n    <tr>\n      <th>10700</th>\n      <td>14/05/2000</td>\n      <td>West Ham</td>\n      <td>Leeds</td>\n      <td>0.0</td>\n      <td>0.0</td>\n      <td>D</td>\n      <td>0.0</td>\n      <td>0.0</td>\n      <td>D</td>\n    </tr>\n  </tbody>\n</table>\n<p>10701 rows × 9 columns</p>\n</div>"
     },
     "metadata": {},
     "execution_count": 147
    }
   ],
   "source": [
    "historical_data = pd.read_csv(r'c:\\premier league\\data-csv\\all-seasons.csv')\n",
    "historical_data"
   ]
  },
  {
   "cell_type": "code",
   "execution_count": null,
   "metadata": {
    "tags": []
   },
   "outputs": [],
   "source": [
    "# current season data file is Season-20-21.csv\n",
    "\n",
    "# create an empty dictionary \n",
    "league_table = dict()\n",
    "\n",
    "# open the csv file for the current season\n",
    "current_season = open(r'data-csv\\Season-20-21.csv', 'rt', encoding='UTF8')\n",
    "\n",
    "# parse each match in the CSV file matches\n",
    "for match in current_season:\n",
    "    \n",
    "    #trim match\n",
    "    match = match.rstrip()\n",
    "    \n",
    "    # split the match into parts, comma as separator\n",
    "    match_parts = match.split(',')\n",
    "    \n",
    "    # skip the header line, which has \"Div\" as first column\n",
    "    if match_parts[0] == \"Div\" : continue\n",
    "\n",
    "    # should include a check at some point to see if the Time column is included in the data file\n",
    "    \n",
    "    ht  = match_parts[2]\n",
    "    at  = match_parts[3]\n",
    "    res = match_parts[6]\n",
    "\n",
    "    # this creates a new Key or retrieves an existing Key\n",
    "    # if a new Key then the Value is 0\n",
    "    # if an existing Key, the Value is incremented by the points for W/L/D\n",
    "    if res == 'H':\n",
    "        league_table[ht] = league_table.get(ht, 0) + 3\n",
    "    elif res == 'A':\n",
    "        league_table[at] = league_table.get(at, 0) + 3\n",
    "    elif res == 'D':\n",
    "        league_table[ht] = league_table.get(ht, 0) + 1\n",
    "        league_table[at] = league_table.get(at, 0) + 1\n",
    "\n",
    "print(league_table)\n",
    "\n",
    "# close the file handle\n",
    "current_season.close()\n"
   ]
  },
  {
   "cell_type": "code",
   "execution_count": null,
   "metadata": {},
   "outputs": [],
   "source": [
    "# create list of positions\n",
    "position = [*range(1, len(league_table)+1, 1)]\n",
    "# print(position)\n",
    "\n",
    "# create a DataFrame to display the current league standings\n",
    "premiership = pd.DataFrame.from_dict(league_table, orient='index', columns=['Points'])\n",
    "\n",
    "# make team a column rather than an index\n",
    "premiership.reset_index(inplace=True)\n",
    "premiership = premiership.rename(columns = {'index':'Team'})\n",
    "\n",
    "# sort highest to lowest\n",
    "premiership.sort_values(by=['Points'], ascending=False, inplace=True)\n",
    "\n",
    "# add the columns to indicate league position\n",
    "premiership['Position'] = position\n",
    "\n",
    "# Make the Position column the index\n",
    "premiership.set_index('Position', inplace=True)\n",
    "\n",
    "# print the league table\n",
    "premiership\n"
   ]
  },
  {
   "cell_type": "code",
   "execution_count": null,
   "metadata": {},
   "outputs": [],
   "source": [
    "TeamA = 'Arsenal'\n",
    "TeamB = 'Leeds'\n",
    "\n",
    "# can use SUM as there is only a single value returned so its the sum of itself\n",
    "TeamAPoints = premiership.loc[premiership.Team == TeamA, 'Points'].sum()\n",
    "TeamBPoints = premiership.loc[premiership.Team == TeamB, 'Points'].sum()\n",
    "\n",
    "# get the index for the row for each team\n",
    "TeamAPos = premiership[premiership['Team'] == TeamA].index[0]\n",
    "TeamBPos = premiership[premiership['Team'] == TeamB].index[0]\n",
    "\n",
    "# calculate the number of games played between the two teams\n",
    "played = epl_df.loc[((epl_df[\"HomeTeam\"].isin([TeamA, TeamB])) & (epl_df[\"AwayTeam\"].isin([TeamA, TeamB]))), 'Date' : 'HTR' ]\n",
    "\n",
    "# Number of games played\n",
    "games_played = played.FTR.count()\n",
    "\n",
    "# How many draws\n",
    "TeamADraws    = played.loc[ ( (played.FTR == 'D') ), 'FTR' ].count()\n",
    "# how many home/away wins\n",
    "TeamAHomeWins = played.loc[ ( (played.FTR == 'H') & (played.HomeTeam == TeamA) ), 'FTR' ].count()\n",
    "TeamAAwayWins = played.loc[ ( (played.FTR == 'A') & (played.AwayTeam == TeamA) ), 'FTR' ].count()\n",
    "# how many home/away wins\n",
    "TeamBHomeWins = played.loc[ ( (played.FTR == 'H') & (played.HomeTeam == TeamB) ), 'FTR' ].count()\n",
    "TeamBAwayWins = played.loc[ ( (played.FTR == 'A') & (played.AwayTeam == TeamB) ), 'FTR' ].count()\n",
    "\n",
    "# print('Played : %d  Draws : %d'%(games_played, TeamADraws))\n",
    "# print('%s \\t Home : %d \\t Away : %d'%(TeamA, TeamAHomeWins, TeamAAwayWins))\n",
    "# print('%s \\t\\t Home : %d \\t Away : %d'%(TeamB, TeamBHomeWins, TeamBAwayWins))\n",
    "\n",
    "print('#===================================================================================================')\n",
    "print('Team \\t\\t Position \\t Points \\t Played \\t Home Wins \\t Away Wins \\t Draws')\n",
    "print('#===================================================================================================')\n",
    "print('%s \\t %d \\t\\t %d \\t\\t %d \\t\\t %d \\t\\t %d \\t\\t %d'%(TeamA, TeamAPos, TeamAPoints, games_played, TeamAHomeWins, TeamAAwayWins, TeamADraws))\n",
    "print('%s \\t\\t %d \\t\\t %d \\t\\t %d \\t\\t %d \\t\\t %d \\t\\t %d'%(TeamB, TeamBPos, TeamBPoints, games_played, TeamBHomeWins, TeamBAwayWins, TeamADraws))\n",
    "print('#===================================================================================================')\n",
    "\n",
    "played\n"
   ]
  },
  {
   "cell_type": "code",
   "execution_count": null,
   "metadata": {},
   "outputs": [],
   "source": [
    "from itertools import groupby\n",
    "\n",
    "#what is the longest winning sequence TeamA has ever had\n",
    "winning_sequence = (( (historical_data.loc[ ((historical_data.HomeTeam == TeamA) & (historical_data.FTR == 'H') ) | ((historical_data.AwayTeam == TeamA) & (historical_data.FTR == 'A') ), 'FTR' ]) ))\n",
    "\n",
    "print(winning_sequence.head(30))\n",
    "\n",
    "substrings = [list(repeated_chars) for _, repeated_chars in groupby(winning_sequence)]\n",
    "\n",
    "# print(substrings)\n",
    "\n",
    "longest = 0\n",
    "winning_run = None\n",
    "\n",
    "for substr in substrings:\n",
    "    if (len(substr)) > longest:\n",
    "        longest = len(substr)\n",
    "        winning_run = substr\n",
    "\n",
    "print('The longest winning run was %d matches, %s'%(longest, winning_run))\n",
    "\n",
    "print(substrings)\n"
   ]
  },
  {
   "cell_type": "code",
   "execution_count": 127,
   "metadata": {},
   "outputs": [
    {
     "output_type": "stream",
     "name": "stdout",
     "text": [
      "356      H\n833      A\n1241     A\n1467     H\n7832     H\n7911     H\n8884     A\n9123     H\n9280     H\n9769     H\n10119    H\n10507    H\n10650    A\nName: FTR, dtype: object\n'Arsenal's longest winning run against Leeds was 5 matches, ['H', 'H', 'H', 'H', 'H']\n[['H'], ['A', 'A'], ['H', 'H', 'H'], ['A'], ['H', 'H', 'H', 'H', 'H'], ['A']]\n"
     ]
    }
   ],
   "source": [
    "\n",
    "#what is the longest winning sequence TeamA has had againt TeamB\n",
    "winning_sequence = (( (played.loc[ ((played.HomeTeam == TeamA) & (played.FTR == 'H') ) | ((played.AwayTeam == TeamA) & (played.FTR == 'A') ), 'FTR' ]) ))\n",
    "\n",
    "print(winning_sequence.head(30))\n",
    "\n",
    "substrings = [list(repeated_chars) for _, repeated_chars in groupby(winning_sequence)]\n",
    "\n",
    "# print(substrings)\n",
    "\n",
    "longest = 0\n",
    "winning_run = None\n",
    "\n",
    "for substr in substrings:\n",
    "    if (len(substr)) > longest:\n",
    "        longest = len(substr)\n",
    "        winning_run = substr\n",
    "\n",
    "print('%as longest winning run against %s was %d matches, %s'%(TeamA, TeamB, longest, winning_run))\n",
    "\n",
    "print(substrings)\n"
   ]
  },
  {
   "cell_type": "code",
   "execution_count": 130,
   "metadata": {},
   "outputs": [
    {
     "output_type": "execute_result",
     "data": {
      "text/plain": [
       "Date        HomeTeam  AwayTeam  FTHG  FTAG  FTR  HTHG  HTAG  HTR\n",
       "01/02/1997  Leeds     Arsenal   0.0   0.0   D    0.0   0.0   D      1\n",
       "01/11/03    Leeds     Arsenal   1.0   4.0   A    0.0   3.0   A      1\n",
       "28/09/2002  Leeds     Arsenal   1.0   4.0   A    0.0   2.0   A      1\n",
       "26/11/00    Leeds     Arsenal   1.0   0.0   H    0.0   0.0   D      1\n",
       "26/10/1996  Arsenal   Leeds     3.0   0.0   H    2.0   0.0   H      1\n",
       "22/11/2020  Leeds     Arsenal   0.0   0.0   D    0.0   0.0   D      1\n",
       "21/08/01    Arsenal   Leeds     1.0   2.0   A    1.0   1.0   D      1\n",
       "20/12/1998  Arsenal   Leeds     3.0   1.0   H    1.0   0.0   H      1\n",
       "20/01/02    Leeds     Arsenal   1.0   1.0   D    1.0   1.0   D      1\n",
       "16/04/2000  Leeds     Arsenal   0.0   4.0   A    0.0   1.0   A      1\n",
       "16/04/04    Arsenal   Leeds     5.0   0.0   H    3.0   0.0   H      1\n",
       "14/10/1995  Leeds     Arsenal   0.0   3.0   A    0.0   1.0   A      1\n",
       "14/02/2021  Arsenal   Leeds     4.0   2.0   H    3.0   0.0   H      1\n",
       "11/05/1999  Leeds     Arsenal   1.0   0.0   H    0.0   0.0   D      1\n",
       "10/01/1998  Arsenal   Leeds     2.0   1.0   H    0.0   0.0   D      1\n",
       "09/08/1997  Leeds     Arsenal   1.0   1.0   D    1.0   1.0   D      1\n",
       "06/04/1996  Arsenal   Leeds     2.0   1.0   H    1.0   0.0   H      1\n",
       "05/05/01    Arsenal   Leeds     2.0   1.0   H    1.0   0.0   H      1\n",
       "04/05/2003  Arsenal   Leeds     2.0   3.0   A    1.0   1.0   D      1\n",
       "28/12/1999  Arsenal   Leeds     2.0   0.0   H    1.0   0.0   H      1\n",
       "dtype: int64"
      ]
     },
     "metadata": {},
     "execution_count": 130
    }
   ],
   "source": [
    "# need to calculate current form for both Teams, how many Goals scored, conceded etc\n",
    "played.value_counts()"
   ]
  },
  {
   "cell_type": "code",
   "execution_count": 210,
   "metadata": {},
   "outputs": [
    {
     "output_type": "execute_result",
     "data": {
      "text/plain": [
       "    Div       Date        HomeTeam        AwayTeam  FTHG  FTAG FTR  HTHG  \\\n",
       "275  E0 2021-03-10        Man City     Southampton     5     2   H     3   \n",
       "274  E0 2021-03-08        West Ham           Leeds     2     0   H     2   \n",
       "273  E0 2021-03-08         Chelsea         Everton     2     0   H     1   \n",
       "272  E0 2021-03-07       Tottenham  Crystal Palace     4     1   H     1   \n",
       "271  E0 2021-03-07        Man City      Man United     0     2   A     0   \n",
       "..   ..        ...             ...             ...   ...   ...  ..   ...   \n",
       "4    E0 2020-09-13       West Brom       Leicester     0     3   A     0   \n",
       "2    E0 2020-09-12       Liverpool           Leeds     4     3   H     3   \n",
       "1    E0 2020-09-12  Crystal Palace     Southampton     1     0   H     1   \n",
       "3    E0 2020-09-12        West Ham       Newcastle     0     2   A     0   \n",
       "0    E0 2020-09-12          Fulham         Arsenal     0     3   A     0   \n",
       "\n",
       "     HTAG HTR  ... AvgC<2.5  AHCh  B365CAHH  B365CAHA  PCAHH  PCAHA  MaxCAHH  \\\n",
       "275     1   H  ...     2.38 -2.00      2.07      1.83   2.06   1.85     2.10   \n",
       "274     0   H  ...     2.10 -0.25      1.95      1.98   1.94   1.98     2.00   \n",
       "273     0   H  ...     1.77 -0.75      1.88      2.05   1.88   2.04     1.88   \n",
       "272     1   D  ...     1.87 -1.00      2.02      1.91   2.02   1.91     2.04   \n",
       "271     1   A  ...     1.96 -1.00      1.88      2.05   1.86   2.07     1.90   \n",
       "..    ...  ..  ...      ...   ...       ...       ...    ...    ...      ...   \n",
       "4       0   D  ...     1.73  0.25      1.92      1.98   1.93   1.99     1.95   \n",
       "2       2   H  ...     2.62 -1.50      1.85      2.05   1.85   2.08     1.90   \n",
       "1       0   H  ...     1.70  0.25      1.78      2.13   1.79   2.17     1.85   \n",
       "3       0   D  ...     1.92 -0.50      2.03      1.87   2.04   1.88     2.09   \n",
       "0       1   A  ...     1.84  0.75      2.01      1.89   2.02   1.91     2.13   \n",
       "\n",
       "     MaxCAHA  AvgCAHH  AvgCAHA  \n",
       "275     1.95     2.03     1.85  \n",
       "274     2.00     1.96     1.94  \n",
       "273     2.14     1.82     2.08  \n",
       "272     2.01     1.95     1.93  \n",
       "271     2.08     1.85     2.03  \n",
       "..       ...      ...      ...  \n",
       "4       2.01     1.91     1.97  \n",
       "2       2.16     1.84     2.04  \n",
       "1       2.18     1.79     2.12  \n",
       "3       1.91     2.02     1.86  \n",
       "0       1.92     2.02     1.87  \n",
       "\n",
       "[276 rows x 105 columns]"
      ],
      "text/html": "<div>\n<style scoped>\n    .dataframe tbody tr th:only-of-type {\n        vertical-align: middle;\n    }\n\n    .dataframe tbody tr th {\n        vertical-align: top;\n    }\n\n    .dataframe thead th {\n        text-align: right;\n    }\n</style>\n<table border=\"1\" class=\"dataframe\">\n  <thead>\n    <tr style=\"text-align: right;\">\n      <th></th>\n      <th>Div</th>\n      <th>Date</th>\n      <th>HomeTeam</th>\n      <th>AwayTeam</th>\n      <th>FTHG</th>\n      <th>FTAG</th>\n      <th>FTR</th>\n      <th>HTHG</th>\n      <th>HTAG</th>\n      <th>HTR</th>\n      <th>...</th>\n      <th>AvgC&lt;2.5</th>\n      <th>AHCh</th>\n      <th>B365CAHH</th>\n      <th>B365CAHA</th>\n      <th>PCAHH</th>\n      <th>PCAHA</th>\n      <th>MaxCAHH</th>\n      <th>MaxCAHA</th>\n      <th>AvgCAHH</th>\n      <th>AvgCAHA</th>\n    </tr>\n  </thead>\n  <tbody>\n    <tr>\n      <th>275</th>\n      <td>E0</td>\n      <td>2021-03-10</td>\n      <td>Man City</td>\n      <td>Southampton</td>\n      <td>5</td>\n      <td>2</td>\n      <td>H</td>\n      <td>3</td>\n      <td>1</td>\n      <td>H</td>\n      <td>...</td>\n      <td>2.38</td>\n      <td>-2.00</td>\n      <td>2.07</td>\n      <td>1.83</td>\n      <td>2.06</td>\n      <td>1.85</td>\n      <td>2.10</td>\n      <td>1.95</td>\n      <td>2.03</td>\n      <td>1.85</td>\n    </tr>\n    <tr>\n      <th>274</th>\n      <td>E0</td>\n      <td>2021-03-08</td>\n      <td>West Ham</td>\n      <td>Leeds</td>\n      <td>2</td>\n      <td>0</td>\n      <td>H</td>\n      <td>2</td>\n      <td>0</td>\n      <td>H</td>\n      <td>...</td>\n      <td>2.10</td>\n      <td>-0.25</td>\n      <td>1.95</td>\n      <td>1.98</td>\n      <td>1.94</td>\n      <td>1.98</td>\n      <td>2.00</td>\n      <td>2.00</td>\n      <td>1.96</td>\n      <td>1.94</td>\n    </tr>\n    <tr>\n      <th>273</th>\n      <td>E0</td>\n      <td>2021-03-08</td>\n      <td>Chelsea</td>\n      <td>Everton</td>\n      <td>2</td>\n      <td>0</td>\n      <td>H</td>\n      <td>1</td>\n      <td>0</td>\n      <td>H</td>\n      <td>...</td>\n      <td>1.77</td>\n      <td>-0.75</td>\n      <td>1.88</td>\n      <td>2.05</td>\n      <td>1.88</td>\n      <td>2.04</td>\n      <td>1.88</td>\n      <td>2.14</td>\n      <td>1.82</td>\n      <td>2.08</td>\n    </tr>\n    <tr>\n      <th>272</th>\n      <td>E0</td>\n      <td>2021-03-07</td>\n      <td>Tottenham</td>\n      <td>Crystal Palace</td>\n      <td>4</td>\n      <td>1</td>\n      <td>H</td>\n      <td>1</td>\n      <td>1</td>\n      <td>D</td>\n      <td>...</td>\n      <td>1.87</td>\n      <td>-1.00</td>\n      <td>2.02</td>\n      <td>1.91</td>\n      <td>2.02</td>\n      <td>1.91</td>\n      <td>2.04</td>\n      <td>2.01</td>\n      <td>1.95</td>\n      <td>1.93</td>\n    </tr>\n    <tr>\n      <th>271</th>\n      <td>E0</td>\n      <td>2021-03-07</td>\n      <td>Man City</td>\n      <td>Man United</td>\n      <td>0</td>\n      <td>2</td>\n      <td>A</td>\n      <td>0</td>\n      <td>1</td>\n      <td>A</td>\n      <td>...</td>\n      <td>1.96</td>\n      <td>-1.00</td>\n      <td>1.88</td>\n      <td>2.05</td>\n      <td>1.86</td>\n      <td>2.07</td>\n      <td>1.90</td>\n      <td>2.08</td>\n      <td>1.85</td>\n      <td>2.03</td>\n    </tr>\n    <tr>\n      <th>...</th>\n      <td>...</td>\n      <td>...</td>\n      <td>...</td>\n      <td>...</td>\n      <td>...</td>\n      <td>...</td>\n      <td>...</td>\n      <td>...</td>\n      <td>...</td>\n      <td>...</td>\n      <td>...</td>\n      <td>...</td>\n      <td>...</td>\n      <td>...</td>\n      <td>...</td>\n      <td>...</td>\n      <td>...</td>\n      <td>...</td>\n      <td>...</td>\n      <td>...</td>\n      <td>...</td>\n    </tr>\n    <tr>\n      <th>4</th>\n      <td>E0</td>\n      <td>2020-09-13</td>\n      <td>West Brom</td>\n      <td>Leicester</td>\n      <td>0</td>\n      <td>3</td>\n      <td>A</td>\n      <td>0</td>\n      <td>0</td>\n      <td>D</td>\n      <td>...</td>\n      <td>1.73</td>\n      <td>0.25</td>\n      <td>1.92</td>\n      <td>1.98</td>\n      <td>1.93</td>\n      <td>1.99</td>\n      <td>1.95</td>\n      <td>2.01</td>\n      <td>1.91</td>\n      <td>1.97</td>\n    </tr>\n    <tr>\n      <th>2</th>\n      <td>E0</td>\n      <td>2020-09-12</td>\n      <td>Liverpool</td>\n      <td>Leeds</td>\n      <td>4</td>\n      <td>3</td>\n      <td>H</td>\n      <td>3</td>\n      <td>2</td>\n      <td>H</td>\n      <td>...</td>\n      <td>2.62</td>\n      <td>-1.50</td>\n      <td>1.85</td>\n      <td>2.05</td>\n      <td>1.85</td>\n      <td>2.08</td>\n      <td>1.90</td>\n      <td>2.16</td>\n      <td>1.84</td>\n      <td>2.04</td>\n    </tr>\n    <tr>\n      <th>1</th>\n      <td>E0</td>\n      <td>2020-09-12</td>\n      <td>Crystal Palace</td>\n      <td>Southampton</td>\n      <td>1</td>\n      <td>0</td>\n      <td>H</td>\n      <td>1</td>\n      <td>0</td>\n      <td>H</td>\n      <td>...</td>\n      <td>1.70</td>\n      <td>0.25</td>\n      <td>1.78</td>\n      <td>2.13</td>\n      <td>1.79</td>\n      <td>2.17</td>\n      <td>1.85</td>\n      <td>2.18</td>\n      <td>1.79</td>\n      <td>2.12</td>\n    </tr>\n    <tr>\n      <th>3</th>\n      <td>E0</td>\n      <td>2020-09-12</td>\n      <td>West Ham</td>\n      <td>Newcastle</td>\n      <td>0</td>\n      <td>2</td>\n      <td>A</td>\n      <td>0</td>\n      <td>0</td>\n      <td>D</td>\n      <td>...</td>\n      <td>1.92</td>\n      <td>-0.50</td>\n      <td>2.03</td>\n      <td>1.87</td>\n      <td>2.04</td>\n      <td>1.88</td>\n      <td>2.09</td>\n      <td>1.91</td>\n      <td>2.02</td>\n      <td>1.86</td>\n    </tr>\n    <tr>\n      <th>0</th>\n      <td>E0</td>\n      <td>2020-09-12</td>\n      <td>Fulham</td>\n      <td>Arsenal</td>\n      <td>0</td>\n      <td>3</td>\n      <td>A</td>\n      <td>0</td>\n      <td>1</td>\n      <td>A</td>\n      <td>...</td>\n      <td>1.84</td>\n      <td>0.75</td>\n      <td>2.01</td>\n      <td>1.89</td>\n      <td>2.02</td>\n      <td>1.91</td>\n      <td>2.13</td>\n      <td>1.92</td>\n      <td>2.02</td>\n      <td>1.87</td>\n    </tr>\n  </tbody>\n</table>\n<p>276 rows × 105 columns</p>\n</div>"
     },
     "metadata": {},
     "execution_count": 210
    }
   ],
   "source": [
    "# calculate current form for each Team in the current season\n",
    "# how many goals \n",
    "\n",
    "TeamA_FTHG = (( (current_form.loc[ ((current_form.HomeTeam == TeamA) & (current_form.FTR == 'H') ) | ((current_form.AwayTeam == TeamA) & (current_form.FTR == 'A') ), 'FTHG' ]) ))\n",
    "\n",
    "TeamB_FTHG = (( (current_form.loc[ ((current_form.HomeTeam == TeamB) & (current_form.FTR == 'H') ) | ((current_form.AwayTeam == TeamB) & (current_form.FTR == 'A') ), 'FTHG' ]) ))\n",
    "\n",
    "TeamA_FTAG = (( (current_form.loc[ ((current_form.AwayTeam == TeamA) & (current_form.FTR == 'A') ) | ((current_form.HomeTeam == TeamA) & (current_form.FTR == 'A') ), 'FTHG' ]) ))\n",
    "\n",
    "TeamB_FTAG = (( (current_form.loc[ ((current_form.HomeTeam == TeamB) & (current_form.FTR == 'H') ) | ((current_form.AwayTeam == TeamB) & (current_form.FTR == 'A') ), 'FTHG' ]) ))\n",
    "\n",
    "#print(TeamA, ' : ', TeamA_FTHG.head(10).sum())\n",
    "#print(TeamB, ' : ', TeamB_FTHG.head(10).sum())\n",
    "\n",
    "current_form = pd.read_csv(r'data-csv\\Season-20-21.csv', parse_dates=[\"Date\"], dayfirst=True)\n",
    "\n",
    "# current_form.set_index('Date', inplace=True)\n",
    "\n",
    "# sort highest to lowest\n",
    "current_form.sort_values(by=['Date'], ascending=False, inplace=True)\n",
    "\n",
    "# current_form[\"Date\"].min(), current_form[\"Date\"].max()\n",
    "# current_form.sort_index(axis=0, ascending=False)\n",
    "\n",
    "current_form\n"
   ]
  },
  {
   "cell_type": "code",
   "execution_count": null,
   "metadata": {},
   "outputs": [],
   "source": []
  }
 ]
}