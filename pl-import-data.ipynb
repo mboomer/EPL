{
 "metadata": {
  "language_info": {
   "codemirror_mode": {
    "name": "ipython",
    "version": 3
   },
   "file_extension": ".py",
   "mimetype": "text/x-python",
   "name": "python",
   "nbconvert_exporter": "python",
   "pygments_lexer": "ipython3",
   "version": "3.9.1-final"
  },
  "orig_nbformat": 2,
  "kernelspec": {
   "name": "python3",
   "display_name": "Python 3.9.1 64-bit",
   "metadata": {
    "interpreter": {
     "hash": "63fd5069d213b44bf678585dea6b12cceca9941eaf7f819626cde1f2670de90d"
    }
   }
  }
 },
 "nbformat": 4,
 "nbformat_minor": 2,
 "cells": [
  {
   "cell_type": "code",
   "execution_count": null,
   "metadata": {},
   "outputs": [],
   "source": [
    "import pandas as pd\n",
    "import numpy as np \n",
    "import os\n",
    "\n",
    "print('Import complete')\n"
   ]
  },
  {
   "cell_type": "code",
   "execution_count": null,
   "metadata": {},
   "outputs": [],
   "source": [
    "# create an empty data frame\n",
    "epl_df = pd.DataFrame()\n",
    "epl_df.shape\n",
    "\n",
    "# loop through the csv files in the data-csv folder\n",
    "import_dir  = 'c:\\premier League\\data-csv'\n",
    "\n",
    "for entry in os.scandir(import_dir):\n",
    "    if (entry.path.endswith(\".csv\")) and (entry.name.startswith(\"Season-\")) and entry.is_file():   \n",
    "        # print('File Name : ', entry.name)\n",
    "        # create a DF from the csv file        \n",
    "        df = pd.read_csv(entry, index_col=False)\n",
    "        # fill any NaN values with zeroes\n",
    "        # df = df.fillna(0)                               \n",
    "        #append the DF to the epl_df - index all rows 1,2,3.....etc\n",
    "        epl_df = pd.concat([epl_df, df], ignore_index=True)\n",
    "\n",
    "Print('DataFrame Completed')\n",
    "        "
   ]
  },
  {
   "cell_type": "code",
   "execution_count": null,
   "metadata": {},
   "outputs": [],
   "source": [
    "epl_df.shape\n",
    "# clean the data up\n",
    "# remove blank rows\n",
    "# epl_df.dropna(inplace = True)\n",
    "# replace NaN values with blank\n",
    "# epl_df.fillna('', inplace = True)\n",
    "# epl_df"
   ]
  },
  {
   "cell_type": "code",
   "execution_count": null,
   "metadata": {},
   "outputs": [],
   "source": [
    "epl_df"
   ]
  },
  {
   "cell_type": "code",
   "execution_count": null,
   "metadata": {},
   "outputs": [],
   "source": [
    "# write the epl_df dataframe to as CSV file\n",
    "# epl_df.to_csv(r'data-csv\\all-seasons.csv', index = False)\n",
    "# write all rows for the columns : Date, HomeTeam, AwayTeam, FTHG, FTAG, FTR, HTHG, HTAG, HTR\n",
    "try:\n",
    "    epl_df.loc[ : , 'Date' : 'HTR' ].to_csv(r'data-csv\\all-seasons.csv', index = False)\n",
    "    print('File Created')\n",
    "except:\n",
    "    print('Something went wrong - check if file is open in Excel')"
   ]
  },
  {
   "cell_type": "code",
   "execution_count": null,
   "metadata": {},
   "outputs": [],
   "source": [
    "# write the dataframe to as CSV file\n",
    "# epl_df.to_csv(r'data-csv\\all-seasons.csv', index = False)\n",
    "\n",
    "#write only the columns : Date, HomeTeam, AwayTeam, FTHG, FTAG, FTR, HTHG, HTAG, HTR\n",
    "try:\n",
    "    epl_df.loc[ : , 'Date' : 'HTR' ].to_csv(r'data-csv\\all-seasons.csv', index = False)\n",
    "    print('All Seasons data CSV created')\n",
    "except:\n",
    "    print('Error creating historical data CSV')\n"
   ]
  },
  {
   "cell_type": "code",
   "execution_count": null,
   "metadata": {},
   "outputs": [],
   "source": [
    "historical_data = pd.read_csv(r'c:\\premier league\\data-csv\\all-seasons.csv')\n",
    "historical_data"
   ]
  },
  {
   "cell_type": "code",
   "execution_count": null,
   "metadata": {
    "tags": []
   },
   "outputs": [],
   "source": [
    "# current season data file is Season-20-21.csv\n",
    "\n",
    "# create an empty dictionary \n",
    "league_table = dict()\n",
    "\n",
    "# open the csv file for the current season\n",
    "current_season = open(r'data-csv\\Season-20-21.csv', 'rt', encoding='UTF8')\n",
    "\n",
    "# parse each match in the CSV file matches\n",
    "for match in current_season:\n",
    "    \n",
    "    #trim match\n",
    "    match = match.rstrip()\n",
    "    \n",
    "    # split the match into parts, comma as separator\n",
    "    match_parts = match.split(',')\n",
    "    \n",
    "    # skip the header line, which has \"Div\" as first column\n",
    "    if match_parts[0] == \"Div\" : continue\n",
    "\n",
    "    # should include a check at some point to see if the Time column is included in the data file\n",
    "    \n",
    "    ht  = match_parts[2]\n",
    "    at  = match_parts[3]\n",
    "    res = match_parts[6]\n",
    "\n",
    "    # this creates a new Key or retrieves an existing Key\n",
    "    # if a new Key then the Value is 0\n",
    "    # if an existing Key, the Value is incremented by the points for W/L/D\n",
    "    if res == 'H':\n",
    "        league_table[ht] = league_table.get(ht, 0) + 3\n",
    "    elif res == 'A':\n",
    "        league_table[at] = league_table.get(at, 0) + 3\n",
    "    elif res == 'D':\n",
    "        league_table[ht] = league_table.get(ht, 0) + 1\n",
    "        league_table[at] = league_table.get(at, 0) + 1\n",
    "\n",
    "print(league_table)\n",
    "\n",
    "# close the file handle\n",
    "current_season.close()\n"
   ]
  },
  {
   "cell_type": "code",
   "execution_count": null,
   "metadata": {},
   "outputs": [],
   "source": [
    "# create list of positions\n",
    "position = [*range(1, len(league_table)+1, 1)]\n",
    "# print(position)\n",
    "\n",
    "# create a DataFrame to display the current league standings\n",
    "premiership = pd.DataFrame.from_dict(league_table, orient='index', columns=['Points'])\n",
    "\n",
    "# make team a column rather than an index\n",
    "premiership.reset_index(inplace=True)\n",
    "premiership = premiership.rename(columns = {'index':'Team'})\n",
    "\n",
    "# sort highest to lowest\n",
    "premiership.sort_values(by=['Points'], ascending=False, inplace=True)\n",
    "\n",
    "# add the columns to indicate league position\n",
    "premiership['Position'] = position\n",
    "\n",
    "# Make the Position column the index\n",
    "premiership.set_index('Position', inplace=True)\n",
    "\n",
    "# print the league table\n",
    "premiership\n"
   ]
  },
  {
   "cell_type": "code",
   "execution_count": null,
   "metadata": {},
   "outputs": [],
   "source": [
    "TeamA = 'Arsenal'\n",
    "TeamB = 'Leeds'\n",
    "\n",
    "# can use SUM as there is only a single value returned so its the sum of itself\n",
    "TeamAPoints = premiership.loc[premiership.Team == TeamA, 'Points'].sum()\n",
    "TeamBPoints = premiership.loc[premiership.Team == TeamB, 'Points'].sum()\n",
    "\n",
    "# get the index for the row for each team\n",
    "TeamAPos = premiership[premiership['Team'] == TeamA].index[0]\n",
    "TeamBPos = premiership[premiership['Team'] == TeamB].index[0]\n",
    "\n",
    "# calculate the number of games played between the two teams\n",
    "played = epl_df.loc[((epl_df[\"HomeTeam\"].isin([TeamA, TeamB])) & (epl_df[\"AwayTeam\"].isin([TeamA, TeamB]))), 'Date' : 'HTR' ]\n",
    "\n",
    "# Number of games played\n",
    "games_played = played.FTR.count()\n",
    "\n",
    "# How many draws\n",
    "TeamADraws    = played.loc[ ( (played.FTR == 'D') ), 'FTR' ].count()\n",
    "# how many home/away wins\n",
    "TeamAHomeWins = played.loc[ ( (played.FTR == 'H') & (played.HomeTeam == TeamA) ), 'FTR' ].count()\n",
    "TeamAAwayWins = played.loc[ ( (played.FTR == 'A') & (played.AwayTeam == TeamA) ), 'FTR' ].count()\n",
    "# how many home/away wins\n",
    "TeamBHomeWins = played.loc[ ( (played.FTR == 'H') & (played.HomeTeam == TeamB) ), 'FTR' ].count()\n",
    "TeamBAwayWins = played.loc[ ( (played.FTR == 'A') & (played.AwayTeam == TeamB) ), 'FTR' ].count()\n",
    "\n",
    "# print('Played : %d  Draws : %d'%(games_played, TeamADraws))\n",
    "# print('%s \\t Home : %d \\t Away : %d'%(TeamA, TeamAHomeWins, TeamAAwayWins))\n",
    "# print('%s \\t\\t Home : %d \\t Away : %d'%(TeamB, TeamBHomeWins, TeamBAwayWins))\n",
    "\n",
    "print('#===================================================================================================')\n",
    "print('Team \\t\\t Position \\t Points \\t Played \\t Home Wins \\t Away Wins \\t Draws')\n",
    "print('#===================================================================================================')\n",
    "print('%s \\t %d \\t\\t %d \\t\\t %d \\t\\t %d \\t\\t %d \\t\\t %d'%(TeamA, TeamAPos, TeamAPoints, games_played, TeamAHomeWins, TeamAAwayWins, TeamADraws))\n",
    "print('%s \\t\\t %d \\t\\t %d \\t\\t %d \\t\\t %d \\t\\t %d \\t\\t %d'%(TeamB, TeamBPos, TeamBPoints, games_played, TeamBHomeWins, TeamBAwayWins, TeamADraws))\n",
    "print('#===================================================================================================')\n",
    "\n",
    "played\n"
   ]
  },
  {
   "cell_type": "code",
   "execution_count": null,
   "metadata": {},
   "outputs": [],
   "source": [
    "from itertools import groupby\n",
    "\n",
    "#what is the longest winning sequence TeamA has ever had\n",
    "winning_sequence = (( (historical_data.loc[ ((historical_data.HomeTeam == TeamA) & (historical_data.FTR == 'H') ) | ((historical_data.AwayTeam == TeamA) & (historical_data.FTR == 'A') ), 'FTR' ]) ))\n",
    "\n",
    "print(winning_sequence.head(30))\n",
    "\n",
    "substrings = [list(repeated_chars) for _, repeated_chars in groupby(winning_sequence)]\n",
    "\n",
    "# print(substrings)\n",
    "\n",
    "longest = 0\n",
    "winning_run = None\n",
    "\n",
    "for substr in substrings:\n",
    "    if (len(substr)) > longest:\n",
    "        longest = len(substr)\n",
    "        winning_run = substr\n",
    "\n",
    "print('The longest winning run was %d matches, %s'%(longest, winning_run))\n",
    "\n",
    "print(substrings)\n"
   ]
  },
  {
   "cell_type": "code",
   "execution_count": 125,
   "metadata": {},
   "outputs": [
    {
     "output_type": "stream",
     "name": "stdout",
     "text": [
      "356      H\n833      A\n1241     A\n1467     H\n7832     H\n7911     H\n8884     A\n9123     H\n9280     H\n9769     H\n10119    H\n10507    H\n10650    A\nName: FTR, dtype: object\nThe longest winning run was 5 matches, ['H', 'H', 'H', 'H', 'H']\n[['H'], ['A', 'A'], ['H', 'H', 'H'], ['A'], ['H', 'H', 'H', 'H', 'H'], ['A']]\n"
     ]
    }
   ],
   "source": [
    "\n",
    "#what is the longest winning sequence TeamA has had againt TeamB\n",
    "winning_sequence = (( (played.loc[ ((played.HomeTeam == TeamA) & (played.FTR == 'H') ) | ((played.AwayTeam == TeamA) & (played.FTR == 'A') ), 'FTR' ]) ))\n",
    "\n",
    "print(winning_sequence.head(30))\n",
    "\n",
    "substrings = [list(repeated_chars) for _, repeated_chars in groupby(winning_sequence)]\n",
    "\n",
    "# print(substrings)\n",
    "\n",
    "longest = 0\n",
    "winning_run = None\n",
    "\n",
    "for substr in substrings:\n",
    "    if (len(substr)) > longest:\n",
    "        longest = len(substr)\n",
    "        winning_run = substr\n",
    "\n",
    "print('The longest winning run was %d matches, %s'%(longest, winning_run))\n",
    "\n",
    "print(substrings)\n"
   ]
  },
  {
   "cell_type": "code",
   "execution_count": null,
   "metadata": {},
   "outputs": [],
   "source": []
  }
 ]
}