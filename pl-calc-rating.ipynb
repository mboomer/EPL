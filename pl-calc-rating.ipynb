{
 "metadata": {
  "language_info": {
   "codemirror_mode": {
    "name": "ipython",
    "version": 3
   },
   "file_extension": ".py",
   "mimetype": "text/x-python",
   "name": "python",
   "nbconvert_exporter": "python",
   "pygments_lexer": "ipython3",
   "version": "3.9.1-final"
  },
  "orig_nbformat": 2,
  "kernelspec": {
   "name": "python3",
   "display_name": "Python 3.9.1 64-bit",
   "metadata": {
    "interpreter": {
     "hash": "63fd5069d213b44bf678585dea6b12cceca9941eaf7f819626cde1f2670de90d"
    }
   }
  }
 },
 "nbformat": 4,
 "nbformat_minor": 2,
 "cells": [
  {
   "cell_type": "code",
   "execution_count": 23,
   "metadata": {},
   "outputs": [
    {
     "output_type": "stream",
     "name": "stdout",
     "text": [
      "Imports complete - pandas ready to use\n"
     ]
    }
   ],
   "source": [
    "# Import Pandas Numpy and OS\n",
    "\n",
    "import pandas as pd\n",
    "import numpy as np \n",
    "import os\n",
    "\n",
    "print('Imports complete - pandas ready to use')\n"
   ]
  },
  {
   "cell_type": "code",
   "execution_count": 22,
   "metadata": {},
   "outputs": [
    {
     "output_type": "stream",
     "name": "stdout",
     "text": [
      "{}\n"
     ]
    }
   ],
   "source": [
    "# Create an empty dictionary to hold the match ratings\n",
    "# This will look like, a count for each  match rating\n",
    "# MatchRatings = {'-1' : 10, '0' : 20, '1' : 10}\n",
    "\n",
    "MatchRatings = {}\n",
    "print(MatchRatings)\n"
   ]
  },
  {
   "cell_type": "code",
   "execution_count": 2,
   "metadata": {},
   "outputs": [
    {
     "output_type": "stream",
     "name": "stdout",
     "text": [
      "All Seasons DataFrame created successfully\n"
     ]
    }
   ],
   "source": [
    "# Create DF from All-Seasons.csv\n",
    "try:\n",
    "    all_seasons = pd.read_csv(r'data-csv\\All-Seasons.csv', parse_dates=[\"Date\"], dayfirst=True)\n",
    "    print('All Seasons DataFrame created successfully')\n",
    "except:\n",
    "    print('Something went wrong - check file is not open in Excel or make sure you have run the imports')\n",
    "    quit()\n",
    "\n",
    "# sort by Date highest to lowest\n",
    "all_seasons.sort_values(by=['Date'], ascending=False, inplace=True)\n"
   ]
  },
  {
   "cell_type": "code",
   "execution_count": 28,
   "metadata": {},
   "outputs": [],
   "source": [
    "# create functions to use in the calculations of the goal ratings\n",
    "\n",
    "def print_row():\n",
    "     print(index, ' : ', row['Date'], row['HomeTeam'], row['AwayTeam'], row['FTHG'], row['FTAG'], row['FTR'])\n",
    "     return"
   ]
  },
  {
   "cell_type": "code",
   "execution_count": 29,
   "metadata": {
    "tags": []
   },
   "outputs": [
    {
     "output_type": "stream",
     "name": "stdout",
     "text": [
      "0  :  2021-03-10 00:00:00 Man City Southampton 5 2 H\n"
     ]
    }
   ],
   "source": [
    "# loop through each match in all_seasons dataframe\n",
    "\n",
    "for index, row in all_seasons.iterrows():\n",
    "\n",
    "    DT = row['Date']\n",
    "    HT = row['HomeTeam']\n",
    "    AT = row['AwayTeam']\n",
    "    RE = row['FTR']\n",
    "    \n",
    "    print_row()\n",
    "    \n",
    "    # print(index, ' : ', row['Date'], row['HomeTeam'], row['AwayTeam'], row['FTHG'], row['FTAG'], row['FTR'])\n",
    "    \n",
    "    break\n"
   ]
  },
  {
   "source": [
    "Select each game in turn\n",
    "\n",
    "For the home team select their last 6 games\n",
    "Superior Goal Rating = goals scored (HSG) / goals conceded (HCG)\n",
    "\n",
    "For the away team select their last 6 games\n",
    "Superior Goal Rating = goals scored (ASG) / goals conceded (ACG)\n",
    "\n",
    "Calculate the Match Rating = (HSG - HCG) - (ASG - ACG)\n",
    "\n",
    "The Matching Rating should be added to the MatchRating{} dictionary\n",
    "If there is an existing MatchRating then increment its count\n"
   ],
   "cell_type": "markdown",
   "metadata": {}
  },
  {
   "cell_type": "code",
   "execution_count": 8,
   "metadata": {},
   "outputs": [
    {
     "output_type": "execute_result",
     "data": {
      "text/plain": [
       "         Date  HomeTeam     AwayTeam  FTHG  FTAG FTR  HTHG  HTAG HTR\n",
       "0  2021-03-10  Man City  Southampton     5     2   H   3.0   1.0   H\n",
       "5  2021-03-07  Man City   Man United     0     2   A   0.0   1.0   A\n",
       "17 2021-03-02  Man City       Wolves     4     1   H   1.0   0.0   H\n",
       "24 2021-02-27  Man City     West Ham     2     1   H   1.0   1.0   D\n",
       "32 2021-02-21   Arsenal     Man City     0     1   A   0.0   1.0   A\n",
       "40 2021-02-17   Everton     Man City     1     3   A   1.0   1.0   D"
      ],
      "text/html": "<div>\n<style scoped>\n    .dataframe tbody tr th:only-of-type {\n        vertical-align: middle;\n    }\n\n    .dataframe tbody tr th {\n        vertical-align: top;\n    }\n\n    .dataframe thead th {\n        text-align: right;\n    }\n</style>\n<table border=\"1\" class=\"dataframe\">\n  <thead>\n    <tr style=\"text-align: right;\">\n      <th></th>\n      <th>Date</th>\n      <th>HomeTeam</th>\n      <th>AwayTeam</th>\n      <th>FTHG</th>\n      <th>FTAG</th>\n      <th>FTR</th>\n      <th>HTHG</th>\n      <th>HTAG</th>\n      <th>HTR</th>\n    </tr>\n  </thead>\n  <tbody>\n    <tr>\n      <th>0</th>\n      <td>2021-03-10</td>\n      <td>Man City</td>\n      <td>Southampton</td>\n      <td>5</td>\n      <td>2</td>\n      <td>H</td>\n      <td>3.0</td>\n      <td>1.0</td>\n      <td>H</td>\n    </tr>\n    <tr>\n      <th>5</th>\n      <td>2021-03-07</td>\n      <td>Man City</td>\n      <td>Man United</td>\n      <td>0</td>\n      <td>2</td>\n      <td>A</td>\n      <td>0.0</td>\n      <td>1.0</td>\n      <td>A</td>\n    </tr>\n    <tr>\n      <th>17</th>\n      <td>2021-03-02</td>\n      <td>Man City</td>\n      <td>Wolves</td>\n      <td>4</td>\n      <td>1</td>\n      <td>H</td>\n      <td>1.0</td>\n      <td>0.0</td>\n      <td>H</td>\n    </tr>\n    <tr>\n      <th>24</th>\n      <td>2021-02-27</td>\n      <td>Man City</td>\n      <td>West Ham</td>\n      <td>2</td>\n      <td>1</td>\n      <td>H</td>\n      <td>1.0</td>\n      <td>1.0</td>\n      <td>D</td>\n    </tr>\n    <tr>\n      <th>32</th>\n      <td>2021-02-21</td>\n      <td>Arsenal</td>\n      <td>Man City</td>\n      <td>0</td>\n      <td>1</td>\n      <td>A</td>\n      <td>0.0</td>\n      <td>1.0</td>\n      <td>A</td>\n    </tr>\n    <tr>\n      <th>40</th>\n      <td>2021-02-17</td>\n      <td>Everton</td>\n      <td>Man City</td>\n      <td>1</td>\n      <td>3</td>\n      <td>A</td>\n      <td>1.0</td>\n      <td>1.0</td>\n      <td>D</td>\n    </tr>\n  </tbody>\n</table>\n</div>"
     },
     "metadata": {},
     "execution_count": 8
    }
   ],
   "source": [
    "# Current form for home team\n",
    "\n",
    "current_form = all_seasons.loc[ (all_seasons.Date <= DT) & ((all_seasons.HomeTeam == HT) | (all_seasons.AwayTeam == HT)) ].head(6)\n",
    "\n",
    "current_form\n"
   ]
  },
  {
   "cell_type": "code",
   "execution_count": 16,
   "metadata": {},
   "outputs": [
    {
     "output_type": "stream",
     "name": "stdout",
     "text": [
      "Scored : 5 \t Conceded : 2 \t Goal Superiority Rating : 3\n"
     ]
    }
   ],
   "source": [
    "# HOME TEAM\n",
    "# goals scored / goals conceded for the last 6 games \n",
    "\n",
    "Scored = 0\n",
    "Scored = current_form.loc[((current_form.HomeTeam == HT)), 'FTHG'].sum()\n",
    "Scored = Scored + (current_form.loc[((current_form.AwayTeam == HT)), 'FTAG'].sum())\n",
    "\n",
    "Conceded = 0\n",
    "Conceded = current_form.loc[((current_form.HomeTeam == HT)), 'FTAG'].sum()\n",
    "Conceded = Conceded + (current_form.loc[((current_form.AwayTeam == HT)), 'FTHG'].sum())\n",
    "\n",
    "HomeSuperiorRating = Scored - Conceded\n",
    "\n",
    "print('Scored : %d \\t Conceded : %d \\t Goal Superiority Rating : %d'%(Scored, Conceded, HomeSuperiorRating))\n"
   ]
  },
  {
   "cell_type": "code",
   "execution_count": 11,
   "metadata": {},
   "outputs": [
    {
     "output_type": "execute_result",
     "data": {
      "text/plain": [
       "         Date          HomeTeam     AwayTeam  FTHG  FTAG FTR  HTHG  HTAG HTR\n",
       "0  2021-03-10          Man City  Southampton     5     2   H   3.0   1.0   H\n",
       "8  2021-03-06  Sheffield United  Southampton     0     2   A   0.0   1.0   A\n",
       "18 2021-03-01           Everton  Southampton     1     0   H   1.0   0.0   H\n",
       "28 2021-02-23             Leeds  Southampton     3     0   H   0.0   0.0   D\n",
       "34 2021-02-20       Southampton      Chelsea     1     1   D   1.0   0.0   H\n",
       "43 2021-02-14       Southampton       Wolves     1     2   A   1.0   0.0   H"
      ],
      "text/html": "<div>\n<style scoped>\n    .dataframe tbody tr th:only-of-type {\n        vertical-align: middle;\n    }\n\n    .dataframe tbody tr th {\n        vertical-align: top;\n    }\n\n    .dataframe thead th {\n        text-align: right;\n    }\n</style>\n<table border=\"1\" class=\"dataframe\">\n  <thead>\n    <tr style=\"text-align: right;\">\n      <th></th>\n      <th>Date</th>\n      <th>HomeTeam</th>\n      <th>AwayTeam</th>\n      <th>FTHG</th>\n      <th>FTAG</th>\n      <th>FTR</th>\n      <th>HTHG</th>\n      <th>HTAG</th>\n      <th>HTR</th>\n    </tr>\n  </thead>\n  <tbody>\n    <tr>\n      <th>0</th>\n      <td>2021-03-10</td>\n      <td>Man City</td>\n      <td>Southampton</td>\n      <td>5</td>\n      <td>2</td>\n      <td>H</td>\n      <td>3.0</td>\n      <td>1.0</td>\n      <td>H</td>\n    </tr>\n    <tr>\n      <th>8</th>\n      <td>2021-03-06</td>\n      <td>Sheffield United</td>\n      <td>Southampton</td>\n      <td>0</td>\n      <td>2</td>\n      <td>A</td>\n      <td>0.0</td>\n      <td>1.0</td>\n      <td>A</td>\n    </tr>\n    <tr>\n      <th>18</th>\n      <td>2021-03-01</td>\n      <td>Everton</td>\n      <td>Southampton</td>\n      <td>1</td>\n      <td>0</td>\n      <td>H</td>\n      <td>1.0</td>\n      <td>0.0</td>\n      <td>H</td>\n    </tr>\n    <tr>\n      <th>28</th>\n      <td>2021-02-23</td>\n      <td>Leeds</td>\n      <td>Southampton</td>\n      <td>3</td>\n      <td>0</td>\n      <td>H</td>\n      <td>0.0</td>\n      <td>0.0</td>\n      <td>D</td>\n    </tr>\n    <tr>\n      <th>34</th>\n      <td>2021-02-20</td>\n      <td>Southampton</td>\n      <td>Chelsea</td>\n      <td>1</td>\n      <td>1</td>\n      <td>D</td>\n      <td>1.0</td>\n      <td>0.0</td>\n      <td>H</td>\n    </tr>\n    <tr>\n      <th>43</th>\n      <td>2021-02-14</td>\n      <td>Southampton</td>\n      <td>Wolves</td>\n      <td>1</td>\n      <td>2</td>\n      <td>A</td>\n      <td>1.0</td>\n      <td>0.0</td>\n      <td>H</td>\n    </tr>\n  </tbody>\n</table>\n</div>"
     },
     "metadata": {},
     "execution_count": 11
    }
   ],
   "source": [
    "# Current form for AWAY team\n",
    "\n",
    "current_form = all_seasons.loc[ (all_seasons.Date <= DT) & ((all_seasons.HomeTeam == AT) | (all_seasons.AwayTeam == AT)) ].head(6)\n",
    "\n",
    "current_form"
   ]
  },
  {
   "cell_type": "code",
   "execution_count": 13,
   "metadata": {},
   "outputs": [
    {
     "output_type": "stream",
     "name": "stdout",
     "text": [
      "Scored : 6 \t Conceded : 12 \t Goal Superiority Rating : -6\n"
     ]
    }
   ],
   "source": [
    "# AWAY TEAM\n",
    "# goals scored / goals conceded for the last 6 games \n",
    "\n",
    "Scored = 0\n",
    "Scored = current_form.loc[((current_form.HomeTeam == AT)), 'FTHG'].sum()\n",
    "Scored = Scored + (current_form.loc[((current_form.AwayTeam == AT)), 'FTAG'].sum())\n",
    "\n",
    "Conceded = 0\n",
    "Conceded = current_form.loc[((current_form.HomeTeam == AT)), 'FTAG'].sum()\n",
    "Conceded = Conceded + (current_form.loc[((current_form.AwayTeam == AT)), 'FTHG'].sum())\n",
    "\n",
    "AwaySuperiorRating = Scored - Conceded\n",
    "\n",
    "print('Scored : %d \\t Conceded : %d \\t Goal Superiority Rating : %d'%(Scored, Conceded, AwaySuperiorRating))\n"
   ]
  },
  {
   "cell_type": "code",
   "execution_count": 17,
   "metadata": {},
   "outputs": [
    {
     "output_type": "stream",
     "name": "stdout",
     "text": [
      " Match Rating : 9\n"
     ]
    }
   ],
   "source": [
    "# Match Rating\n",
    "\n",
    "MatchRating = HomeSuperiorRating - AwaySuperiorRating\n",
    "\n",
    "print(' Match Rating :', MatchRating)\n"
   ]
  },
  {
   "cell_type": "code",
   "execution_count": 27,
   "metadata": {},
   "outputs": [
    {
     "output_type": "execute_result",
     "data": {
      "text/plain": [
       "{9: 4}"
      ]
     },
     "metadata": {},
     "execution_count": 27
    }
   ],
   "source": [
    "# If the MatchRating doesn't exist in the dictionary create it and give it a value of 0\n",
    "# then increment it\n",
    "# if a MatchRating does exist then just increment it\n",
    "\n",
    "MatchRatings[MatchRating] = MatchRatings.get(MatchRating, 0) + 1\n",
    "\n",
    "MatchRatings\n"
   ]
  },
  {
   "cell_type": "code",
   "execution_count": null,
   "metadata": {},
   "outputs": [],
   "source": []
  }
 ]
}