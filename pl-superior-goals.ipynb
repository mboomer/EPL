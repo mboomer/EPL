{
 "metadata": {
  "language_info": {
   "codemirror_mode": {
    "name": "ipython",
    "version": 3
   },
   "file_extension": ".py",
   "mimetype": "text/x-python",
   "name": "python",
   "nbconvert_exporter": "python",
   "pygments_lexer": "ipython3",
   "version": "3.9.1-final"
  },
  "orig_nbformat": 2,
  "kernelspec": {
   "name": "python3",
   "display_name": "Python 3.9.1 64-bit",
   "metadata": {
    "interpreter": {
     "hash": "63fd5069d213b44bf678585dea6b12cceca9941eaf7f819626cde1f2670de90d"
    }
   }
  }
 },
 "nbformat": 4,
 "nbformat_minor": 2,
 "cells": [
  {
   "source": [
    "This Notebook will read in All-Seasons.csv and try to calculate a superior goals rating for each team\n"
   ],
   "cell_type": "markdown",
   "metadata": {}
  },
  {
   "cell_type": "code",
   "execution_count": 3,
   "metadata": {},
   "outputs": [
    {
     "output_type": "stream",
     "name": "stdout",
     "text": [
      "Imports complete - pandas ready to use\n"
     ]
    }
   ],
   "source": [
    "# Import Pandas Numpy and OS\n",
    "\n",
    "import pandas as pd\n",
    "import numpy as np \n",
    "import os\n",
    "\n",
    "print('Imports complete - pandas ready to use')\n"
   ]
  },
  {
   "cell_type": "code",
   "execution_count": 4,
   "metadata": {},
   "outputs": [
    {
     "output_type": "stream",
     "name": "stdout",
     "text": [
      "DataFrame created successfully\n"
     ]
    },
    {
     "output_type": "execute_result",
     "data": {
      "text/plain": [
       "H    4917\n",
       "A    3009\n",
       "D    2774\n",
       "Name: FTR, dtype: int64"
      ]
     },
     "metadata": {},
     "execution_count": 4
    }
   ],
   "source": [
    "# Create DF from All-Seasons.csv\n",
    "try:\n",
    "    all_seasons = pd.read_csv(r'data-csv\\All-Seasons.csv', parse_dates=[\"Date\"], dayfirst=True)\n",
    "    print('DataFrame created successfully')\n",
    "except:\n",
    "    print('Something went wrong - check file is not open in Excel or make sure you have run the imports')\n",
    "    quit()\n",
    "\n",
    "# sort by Date highest to lowest\n",
    "all_seasons.sort_values(by=['Date'], ascending=False, inplace=True)\n"
   ]
  },
  {
   "cell_type": "code",
   "execution_count": 40,
   "metadata": {},
   "outputs": [
    {
     "output_type": "stream",
     "name": "stdout",
     "text": [
      "=====================================================================\nPercentage of Home Wins, Away Wins and Draws across all seasons      \n=====================================================================\n=====================================================================\nTotal \t Home(%) \t Away(%) \t Draws(%)                             \n=====================================================================\n10700 \t 45.95 \t\t 28.12 \t\t 25.93\n"
     ]
    }
   ],
   "source": [
    "\n",
    "TotalGames = all_seasons.FTR.count()\n",
    "\n",
    "HomeWins   = all_seasons.loc[all_seasons.FTR == 'H', 'FTR'].count()\n",
    "AwayWins   = all_seasons.loc[all_seasons.FTR == 'A', 'FTR'].count()\n",
    "Draws      = all_seasons.loc[all_seasons.FTR == 'D', 'FTR'].count()\n",
    "\n",
    "print('=====================================================================')\n",
    "print('Percentage of Home Wins, Away Wins and Draws across all seasons      ')\n",
    "print('=====================================================================')\n",
    "print('=====================================================================')\n",
    "print('Total \\t Home(%) \\t Away(%) \\t Draws(%)                             ')\n",
    "print('=====================================================================')\n",
    "print('%d \\t %.2f \\t\\t %.2f \\t\\t %.2f'%( TotalGames, ((HomeWins/TotalGames)*100), ((AwayWins/TotalGames)*100), ((Draws/TotalGames)*100) ))\n"
   ]
  },
  {
   "cell_type": "code",
   "execution_count": 63,
   "metadata": {},
   "outputs": [
    {
     "output_type": "stream",
     "name": "stdout",
     "text": [
      "DataFrame created successfully\n"
     ]
    },
    {
     "output_type": "execute_result",
     "data": {
      "text/plain": [
       "                Team\n",
       "0           Man City\n",
       "1           West Ham\n",
       "2            Chelsea\n",
       "3          Tottenham\n",
       "4          Liverpool\n",
       "5          West Brom\n",
       "6           Brighton\n",
       "7        Aston Villa\n",
       "8   Sheffield United\n",
       "9            Burnley\n",
       "10            Fulham\n",
       "11    Crystal Palace\n",
       "12           Everton\n",
       "13         Leicester\n",
       "14         Newcastle\n",
       "15             Leeds\n",
       "16           Arsenal\n",
       "17        Man United\n",
       "18       Southampton\n",
       "19            Wolves"
      ],
      "text/html": "<div>\n<style scoped>\n    .dataframe tbody tr th:only-of-type {\n        vertical-align: middle;\n    }\n\n    .dataframe tbody tr th {\n        vertical-align: top;\n    }\n\n    .dataframe thead th {\n        text-align: right;\n    }\n</style>\n<table border=\"1\" class=\"dataframe\">\n  <thead>\n    <tr style=\"text-align: right;\">\n      <th></th>\n      <th>Team</th>\n    </tr>\n  </thead>\n  <tbody>\n    <tr>\n      <th>0</th>\n      <td>Man City</td>\n    </tr>\n    <tr>\n      <th>1</th>\n      <td>West Ham</td>\n    </tr>\n    <tr>\n      <th>2</th>\n      <td>Chelsea</td>\n    </tr>\n    <tr>\n      <th>3</th>\n      <td>Tottenham</td>\n    </tr>\n    <tr>\n      <th>4</th>\n      <td>Liverpool</td>\n    </tr>\n    <tr>\n      <th>5</th>\n      <td>West Brom</td>\n    </tr>\n    <tr>\n      <th>6</th>\n      <td>Brighton</td>\n    </tr>\n    <tr>\n      <th>7</th>\n      <td>Aston Villa</td>\n    </tr>\n    <tr>\n      <th>8</th>\n      <td>Sheffield United</td>\n    </tr>\n    <tr>\n      <th>9</th>\n      <td>Burnley</td>\n    </tr>\n    <tr>\n      <th>10</th>\n      <td>Fulham</td>\n    </tr>\n    <tr>\n      <th>11</th>\n      <td>Crystal Palace</td>\n    </tr>\n    <tr>\n      <th>12</th>\n      <td>Everton</td>\n    </tr>\n    <tr>\n      <th>13</th>\n      <td>Leicester</td>\n    </tr>\n    <tr>\n      <th>14</th>\n      <td>Newcastle</td>\n    </tr>\n    <tr>\n      <th>15</th>\n      <td>Leeds</td>\n    </tr>\n    <tr>\n      <th>16</th>\n      <td>Arsenal</td>\n    </tr>\n    <tr>\n      <th>17</th>\n      <td>Man United</td>\n    </tr>\n    <tr>\n      <th>18</th>\n      <td>Southampton</td>\n    </tr>\n    <tr>\n      <th>19</th>\n      <td>Wolves</td>\n    </tr>\n  </tbody>\n</table>\n</div>"
     },
     "metadata": {},
     "execution_count": 63
    }
   ],
   "source": [
    "# Create a list of the unique teams in premier league\n",
    "# assume that every team will appear as the home team\n",
    "\n",
    "# Create DF from Seasons-20-21.csv\n",
    "try:\n",
    "    current_season = pd.read_csv(r'data-csv\\Season-20-21.csv', parse_dates=[\"Date\"], dayfirst=True)\n",
    "    print('DataFrame created successfully')\n",
    "except:\n",
    "    print('Something went wrong - check file is not open in Excel or make sure you have run the imports')\n",
    "    quit()\n",
    "\n",
    "# sort by Date highest to lowest\n",
    "current_season.sort_values(by=['Date'], ascending=False, inplace=True)\n",
    "\n",
    "# Numpy array with list of unique team names \n",
    "Teams = current_season.HomeTeam.unique()\n",
    "# create DF from numoy array\n",
    "Teams = pd.DataFrame(Teams, columns=['Team'])\n",
    "# drop any NaN rows\n",
    "Teams.dropna(inplace=True)\n",
    "\n",
    "Teams\n"
   ]
  },
  {
   "cell_type": "code",
   "execution_count": 80,
   "metadata": {},
   "outputs": [
    {
     "output_type": "stream",
     "name": "stdout",
     "text": [
      "9\n8\n"
     ]
    },
    {
     "output_type": "execute_result",
     "data": {
      "text/plain": [
       "    Div       Date     HomeTeam  AwayTeam  FTHG  FTAG FTR  HTHG  HTAG HTR  \\\n",
       "265  E0 2021-03-06      Burnley   Arsenal     1     1   D     1     1   D   \n",
       "253  E0 2021-02-28    Leicester   Arsenal     1     3   A     1     2   A   \n",
       "244  E0 2021-02-21      Arsenal  Man City     0     1   A     0     1   A   \n",
       "231  E0 2021-02-14      Arsenal     Leeds     4     2   H     3     0   H   \n",
       "215  E0 2021-02-06  Aston Villa   Arsenal     1     0   H     1     0   H   \n",
       "206  E0 2021-02-02       Wolves   Arsenal     2     1   H     1     1   D   \n",
       "\n",
       "     ... AvgC<2.5  AHCh  B365CAHH  B365CAHA  PCAHH  PCAHA  MaxCAHH  MaxCAHA  \\\n",
       "265  ...     1.79  0.75      1.89      2.04   1.90   2.02     1.94     2.08   \n",
       "253  ...     1.74 -0.25      2.01      1.92   1.99   1.93     2.07     1.93   \n",
       "244  ...     2.23  1.25      1.83      2.10   1.86   2.07     1.95     2.13   \n",
       "231  ...     2.29 -0.75      2.10      1.83   2.08   1.83     2.12     1.98   \n",
       "215  ...     2.14  0.25      1.82      2.11   1.83   2.11     1.94     2.16   \n",
       "206  ...     1.66  0.25      2.05      1.88   2.05   1.88     2.07     1.90   \n",
       "\n",
       "     AvgCAHH  AvgCAHA  \n",
       "265     1.87     2.02  \n",
       "253     2.00     1.88  \n",
       "244     1.84     2.05  \n",
       "231     2.04     1.85  \n",
       "215     1.83     2.07  \n",
       "206     2.01     1.87  \n",
       "\n",
       "[6 rows x 105 columns]"
      ],
      "text/html": "<div>\n<style scoped>\n    .dataframe tbody tr th:only-of-type {\n        vertical-align: middle;\n    }\n\n    .dataframe tbody tr th {\n        vertical-align: top;\n    }\n\n    .dataframe thead th {\n        text-align: right;\n    }\n</style>\n<table border=\"1\" class=\"dataframe\">\n  <thead>\n    <tr style=\"text-align: right;\">\n      <th></th>\n      <th>Div</th>\n      <th>Date</th>\n      <th>HomeTeam</th>\n      <th>AwayTeam</th>\n      <th>FTHG</th>\n      <th>FTAG</th>\n      <th>FTR</th>\n      <th>HTHG</th>\n      <th>HTAG</th>\n      <th>HTR</th>\n      <th>...</th>\n      <th>AvgC&lt;2.5</th>\n      <th>AHCh</th>\n      <th>B365CAHH</th>\n      <th>B365CAHA</th>\n      <th>PCAHH</th>\n      <th>PCAHA</th>\n      <th>MaxCAHH</th>\n      <th>MaxCAHA</th>\n      <th>AvgCAHH</th>\n      <th>AvgCAHA</th>\n    </tr>\n  </thead>\n  <tbody>\n    <tr>\n      <th>265</th>\n      <td>E0</td>\n      <td>2021-03-06</td>\n      <td>Burnley</td>\n      <td>Arsenal</td>\n      <td>1</td>\n      <td>1</td>\n      <td>D</td>\n      <td>1</td>\n      <td>1</td>\n      <td>D</td>\n      <td>...</td>\n      <td>1.79</td>\n      <td>0.75</td>\n      <td>1.89</td>\n      <td>2.04</td>\n      <td>1.90</td>\n      <td>2.02</td>\n      <td>1.94</td>\n      <td>2.08</td>\n      <td>1.87</td>\n      <td>2.02</td>\n    </tr>\n    <tr>\n      <th>253</th>\n      <td>E0</td>\n      <td>2021-02-28</td>\n      <td>Leicester</td>\n      <td>Arsenal</td>\n      <td>1</td>\n      <td>3</td>\n      <td>A</td>\n      <td>1</td>\n      <td>2</td>\n      <td>A</td>\n      <td>...</td>\n      <td>1.74</td>\n      <td>-0.25</td>\n      <td>2.01</td>\n      <td>1.92</td>\n      <td>1.99</td>\n      <td>1.93</td>\n      <td>2.07</td>\n      <td>1.93</td>\n      <td>2.00</td>\n      <td>1.88</td>\n    </tr>\n    <tr>\n      <th>244</th>\n      <td>E0</td>\n      <td>2021-02-21</td>\n      <td>Arsenal</td>\n      <td>Man City</td>\n      <td>0</td>\n      <td>1</td>\n      <td>A</td>\n      <td>0</td>\n      <td>1</td>\n      <td>A</td>\n      <td>...</td>\n      <td>2.23</td>\n      <td>1.25</td>\n      <td>1.83</td>\n      <td>2.10</td>\n      <td>1.86</td>\n      <td>2.07</td>\n      <td>1.95</td>\n      <td>2.13</td>\n      <td>1.84</td>\n      <td>2.05</td>\n    </tr>\n    <tr>\n      <th>231</th>\n      <td>E0</td>\n      <td>2021-02-14</td>\n      <td>Arsenal</td>\n      <td>Leeds</td>\n      <td>4</td>\n      <td>2</td>\n      <td>H</td>\n      <td>3</td>\n      <td>0</td>\n      <td>H</td>\n      <td>...</td>\n      <td>2.29</td>\n      <td>-0.75</td>\n      <td>2.10</td>\n      <td>1.83</td>\n      <td>2.08</td>\n      <td>1.83</td>\n      <td>2.12</td>\n      <td>1.98</td>\n      <td>2.04</td>\n      <td>1.85</td>\n    </tr>\n    <tr>\n      <th>215</th>\n      <td>E0</td>\n      <td>2021-02-06</td>\n      <td>Aston Villa</td>\n      <td>Arsenal</td>\n      <td>1</td>\n      <td>0</td>\n      <td>H</td>\n      <td>1</td>\n      <td>0</td>\n      <td>H</td>\n      <td>...</td>\n      <td>2.14</td>\n      <td>0.25</td>\n      <td>1.82</td>\n      <td>2.11</td>\n      <td>1.83</td>\n      <td>2.11</td>\n      <td>1.94</td>\n      <td>2.16</td>\n      <td>1.83</td>\n      <td>2.07</td>\n    </tr>\n    <tr>\n      <th>206</th>\n      <td>E0</td>\n      <td>2021-02-02</td>\n      <td>Wolves</td>\n      <td>Arsenal</td>\n      <td>2</td>\n      <td>1</td>\n      <td>H</td>\n      <td>1</td>\n      <td>1</td>\n      <td>D</td>\n      <td>...</td>\n      <td>1.66</td>\n      <td>0.25</td>\n      <td>2.05</td>\n      <td>1.88</td>\n      <td>2.05</td>\n      <td>1.88</td>\n      <td>2.07</td>\n      <td>1.90</td>\n      <td>2.01</td>\n      <td>1.87</td>\n    </tr>\n  </tbody>\n</table>\n<p>6 rows × 105 columns</p>\n</div>"
     },
     "metadata": {},
     "execution_count": 80
    }
   ],
   "source": [
    "# goals scored / goals conceded for the last 6 games \n",
    "TeamA = 'Arsenal'\n",
    "\n",
    "HG = (current_season.loc[ (current_season.HomeTeam == TeamA), 'FTHG' ]).head(6).sum()\n",
    "AG = (current_season.loc[ (current_season.AwayTeam == TeamA), 'FTAG' ]).head(6).sum()\n",
    "\n",
    "print(current_season.loc[ ((current_season.HomeTeam == \"Arsenal\") | (current_season.AwayTeam == \"Arsenal\")), 'FTHG'].head(6).sum())\n",
    "\n",
    "print(current_season.loc[ ((current_season.HomeTeam == \"Arsenal\") | (current_season.AwayTeam == \"Arsenal\")), 'FTAG'].head(6).sum())\n",
    "\n",
    "current_season.loc[ ((current_season.HomeTeam == \"Arsenal\") | (current_season.AwayTeam == \"Arsenal\"))].head(6)\n"
   ]
  },
  {
   "cell_type": "code",
   "execution_count": null,
   "metadata": {},
   "outputs": [],
   "source": []
  }
 ]
}